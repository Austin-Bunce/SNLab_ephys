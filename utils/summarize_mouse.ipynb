{
 "cells": [
  {
   "cell_type": "markdown",
   "metadata": {},
   "source": [
    "## Summary of recorded cells over sessions for a given mouse"
   ]
  },
  {
   "cell_type": "markdown",
   "metadata": {},
   "source": []
  },
  {
   "cell_type": "code",
   "execution_count": 14,
   "metadata": {},
   "outputs": [
    {
     "name": "stdout",
     "output_type": "stream",
     "text": [
      "C:\\Users\\schafferlab\\Documents\\GitHub\\neurocode\\loadData\n"
     ]
    }
   ],
   "source": [
    "%cd \"C:/Users/schafferlab/Documents/GitHub/neurocode/loadData/\"\n"
   ]
  },
  {
   "cell_type": "code",
   "execution_count": 127,
   "metadata": {},
   "outputs": [],
   "source": [
    "import io\n",
    "import glob\n",
    "import numpy as np \n",
    "import pandas as pd \n",
    "import os\n",
    "import re\n",
    "import loading\n",
    "from datetime import datetime\n",
    "import itertools\n",
    "\n",
    "#plotting\n",
    "import matplotlib.pyplot as plt"
   ]
  },
  {
   "cell_type": "markdown",
   "metadata": {},
   "source": [
    "Find impedence measurements. These values are recorded using intan RHD recording system. \n",
    "\n",
    "* Assumes files are saved as day##.csv (e.g. day00.csv) "
   ]
  },
  {
   "cell_type": "code",
   "execution_count": 125,
   "metadata": {},
   "outputs": [],
   "source": [
    "session_path = r\"D:/app_ps1/data/hpc01/\"\n",
    "\n",
    "folders = glob.glob(session_path+'*')\n",
    "sess = glob.glob(session_path +'**/day**.csv')\n",
    "files = []\n",
    "for file in sess: \n",
    "    if re.search('DLC',file):\n",
    "        continue\n",
    "    df = pd.read_csv(file, index_col=None, header=0)\n",
    "    files.append(df)\n",
    "date = []\n",
    "for folder in folders:\n",
    "    date.append(os.path.basename(folder).split('_')[1])\n"
   ]
  },
  {
   "cell_type": "markdown",
   "metadata": {},
   "source": [
    "Concatenate all values in pandas dataframe"
   ]
  },
  {
   "cell_type": "code",
   "execution_count": 126,
   "metadata": {},
   "outputs": [
    {
     "name": "stdout",
     "output_type": "stream",
     "text": [
      "Index(['Channel Number', 'Channel Name', 'Port', 'Enabled',\n",
      "       'Impedance Magnitude at 1000 Hz (ohms)',\n",
      "       'Impedance Phase at 1000 Hz (degrees)', 'Series RC equivalent R (Ohms)',\n",
      "       'Series RC equivalent C (Farads)'],\n",
      "      dtype='object')\n",
      "2021-10-27 00:00:00\n"
     ]
    }
   ],
   "source": [
    "df = pd.concat(files, axis=0, ignore_index=False)\n",
    "print(df.columns)\n",
    "date\n",
    "print(datetime.strptime(date[1], '%y%m%d'))"
   ]
  },
  {
   "cell_type": "code",
   "execution_count": 85,
   "metadata": {},
   "outputs": [
    {
     "data": {
      "text/plain": [
       "0       1940000.0\n",
       "1       1450000.0\n",
       "2       2090000.0\n",
       "3       2430000.0\n",
       "4       1710000.0\n",
       "          ...    \n",
       "1403    3010000.0\n",
       "1404    3790000.0\n",
       "1405    2860000.0\n",
       "1406    1960000.0\n",
       "1407    2530000.0\n",
       "Name: Impedance Magnitude at 1000 Hz (ohms), Length: 1408, dtype: float64"
      ]
     },
     "execution_count": 85,
     "metadata": {},
     "output_type": "execute_result"
    }
   ],
   "source": [
    "itertools.repeat()"
   ]
  }
 ],
 "metadata": {
  "interpreter": {
   "hash": "e27fd7850812862851c7da1323ada4c9a2ad11ea01d525844ea6f2a1f79e43a8"
  },
  "kernelspec": {
   "display_name": "Python 3.8.12 64-bit ('ephys': conda)",
   "language": "python",
   "name": "python3"
  },
  "language_info": {
   "codemirror_mode": {
    "name": "ipython",
    "version": 3
   },
   "file_extension": ".py",
   "mimetype": "text/x-python",
   "name": "python",
   "nbconvert_exporter": "python",
   "pygments_lexer": "ipython3",
   "version": "3.8.8"
  },
  "orig_nbformat": 4
 },
 "nbformat": 4,
 "nbformat_minor": 2
}
